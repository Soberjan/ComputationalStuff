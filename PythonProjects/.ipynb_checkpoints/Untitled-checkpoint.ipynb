{
 "cells": [
  {
   "cell_type": "code",
   "execution_count": 2,
   "id": "52508236-3bbf-4354-a86f-a77e36e494bb",
   "metadata": {},
   "outputs": [],
   "source": [
    "import matplotlib.pyplot as plt\n",
    "import numpy as np"
   ]
  },
  {
   "cell_type": "markdown",
   "id": "2f00a9f5-e6a3-43db-b783-bb34ff329132",
   "metadata": {},
   "source": [
    "Решаем следующую задачу:\n",
    "\n",
    "$$\\Delta u = f(x), x \\in [0, 1]$$\n",
    "$$u(0) = u(1) = g(x)$$\n",
    "$$f(x) = x, g(x) = 0$$\n",
    "\n",
    "Конечно-разностная схема принимает следующий вид:\n",
    "$$\\frac{1}{h^2}u(x_{i+1} - \\frac{2}{h^2}u(x_i) + \\frac{1}{h^2}u(x_{i-1}) = f(x_i), i = 0,n$$\n",
    "(при $i = 0$ и при $i = n$ она, очевидно, немного другая)"
   ]
  },
  {
   "cell_type": "code",
   "execution_count": 7,
   "id": "20ff73a6-ebad-4735-a5d2-8f0dad21e06e",
   "metadata": {},
   "outputs": [],
   "source": [
    "def f(x):\n",
    "    return x\n",
    "def g(x):\n",
    "    return 0\n",
    "\n",
    "M = 4\n",
    "L = 1\n",
    "\n",
    "x = np.linspace(0, L, M+1)"
   ]
  },
  {
   "cell_type": "code",
   "execution_count": 5,
   "id": "aaad8d26-0e2b-48e8-92b5-2e3d6706c454",
   "metadata": {},
   "outputs": [],
   "source": [
    "def Thomas_Method(Al, Am, Ar,b):\n",
    "    n = len(Al)\n",
    "    res = np.zeros(n)\n",
    "\n",
    "    c = np.zeros(n - 1)\n",
    "    d = np.zeros(n)\n",
    "\n",
    "    c[0] = Ar[0]/Am[0] # c'_1\n",
    "    d[0] = b[0]/Am[0] # d'_1\n",
    "\n",
    "    for i in range(1, n - 1):\n",
    "        c[i] = Ar[i] / (Am[i] - Al[i] * c[i - 1])\n",
    "        d[i] = (b[i] - Al[i]* d[i - 1]) / (Am[i] - \\\n",
    "                                                      Al[i] * c[i - 1])\n",
    "\n",
    "    d[n - 1] = (b[n - 1] - Al[n - 1]* d[n - 2]) / (Am[n - 1] - \\\n",
    "                                                     Al[n - 1] * c[n - 2])\n",
    "    res[n - 1] = d[n - 1]\n",
    "    for i in range(n - 2, -1, -1 ):\n",
    "        res[i] = d[i] - c[i] * res[i + 1]\n",
    "    return res"
   ]
  },
  {
   "cell_type": "code",
   "execution_count": 6,
   "id": "34226671-000b-4aa2-9ff9-d2df7eff12f0",
   "metadata": {},
   "outputs": [
    {
     "ename": "NameError",
     "evalue": "name 'M' is not defined",
     "output_type": "error",
     "traceback": [
      "\u001b[0;31m---------------------------------------------------------------------------\u001b[0m",
      "\u001b[0;31mNameError\u001b[0m                                 Traceback (most recent call last)",
      "Cell \u001b[0;32mIn[6], line 1\u001b[0m\n\u001b[0;32m----> 1\u001b[0m Al \u001b[38;5;241m=\u001b[39m np\u001b[38;5;241m.\u001b[39mzeros(M\u001b[38;5;241m+\u001b[39m\u001b[38;5;241m1\u001b[39m)\n\u001b[1;32m      2\u001b[0m Am \u001b[38;5;241m=\u001b[39m np\u001b[38;5;241m.\u001b[39mzeros(M\u001b[38;5;241m+\u001b[39m\u001b[38;5;241m1\u001b[39m)\n\u001b[1;32m      3\u001b[0m Ar \u001b[38;5;241m=\u001b[39m np\u001b[38;5;241m.\u001b[39mzeros(M\u001b[38;5;241m+\u001b[39m\u001b[38;5;241m1\u001b[39m)\n",
      "\u001b[0;31mNameError\u001b[0m: name 'M' is not defined"
     ]
    }
   ],
   "source": [
    "Al = np.zeros(M+1)\n",
    "Am = np.zeros(M+1)\n",
    "Ar = np.zeros(M+1)\n",
    "B = np.zeros(M+1)\n",
    "Am[0]=-1/h - h/(2*D_C1*tau)\n",
    "Ar[0] = 1/h\n",
    "B[0]=-(1/tau - g3)*C1[i-1,0]*h/(2*D_C1)-h/(2*D_C1)*k1*I[i-1,0]-h/(2*D_C1) * (a1*C1[i-1,0]*M1[i-1,0])/(1+b2*C1[i-1,0])-Al[0]\n",
    "Al[0:M]= -D_C1/(h**2)\n",
    "Am[1:M] =1/tau + (2*D_C1)/(h**2)\n",
    "Ar[1:M+1]=  -D_C1/h**2\n",
    "B[1:M] = (a1*C1[i-1,1:M]*M1[i-1,1:M])/(1+b2*C1[i-1,1:M]) + k1*I[i-1,1:M] + (1/tau-g3)*C1[i-1,1:M]\n",
    "Al[M]= -1/h\n",
    "Am[M] =1/h + h/(2*D_C1*tau)\n",
    "B[M]=(1/tau - g3)*C1[i-1,M]*h/(2*D_C1)+h/(2*D_C1)*k1*I[i-1,M]+h/(2*D_C1) * (a1*C1[i-1,M]*M1[i-1,M])/(1+b2*C1[i-1,M])\n",
    "\n",
    "solution = Thomas_Method(Al, Am, Ar, B)"
   ]
  },
  {
   "cell_type": "code",
   "execution_count": null,
   "id": "d9e4ed28-2ae7-4ce4-875b-5b0966c49237",
   "metadata": {},
   "outputs": [],
   "source": []
  }
 ],
 "metadata": {
  "kernelspec": {
   "display_name": "Python 3 (ipykernel)",
   "language": "python",
   "name": "python3"
  },
  "language_info": {
   "codemirror_mode": {
    "name": "ipython",
    "version": 3
   },
   "file_extension": ".py",
   "mimetype": "text/x-python",
   "name": "python",
   "nbconvert_exporter": "python",
   "pygments_lexer": "ipython3",
   "version": "3.11.7"
  }
 },
 "nbformat": 4,
 "nbformat_minor": 5
}
